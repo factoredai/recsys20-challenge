{
 "cells": [
  {
   "cell_type": "markdown",
   "metadata": {},
   "source": [
    "# Data Pipeline Part 2\n",
    "\n",
    "# Goal\n",
    "Create buckets\n",
    "\n",
    "# Methodology\n",
    "Create different features from the original data\n",
    "\n",
    "## Sections\n",
    "1. [**Requirements**](#Requirements)\n",
    "2. [**Functions**](#Functions)\n",
    "3. [**Inputs**](#Inputs)\n",
    "5. [**FeatureSelection**](#FeatureSelection)\n",
    "6. [**Imputation**](#Imputation)\n",
    "7. [**Validation**](#Validation)\n",
    "8. [**Saving_df**](#Saving_df)"
   ]
  },
  {
   "cell_type": "markdown",
   "metadata": {},
   "source": [
    "# Requirements"
   ]
  },
  {
   "cell_type": "code",
   "execution_count": null,
   "metadata": {
    "scrolled": true
   },
   "outputs": [],
   "source": [
    "#installing packages\n",
    "sc.install_pypi_package(\"pandas\")\n",
    "sc.install_pypi_package(\"boto3\")"
   ]
  },
  {
   "cell_type": "code",
   "execution_count": 2,
   "metadata": {},
   "outputs": [
    {
     "data": {
      "application/vnd.jupyter.widget-view+json": {
       "model_id": "05e2ee7996e447ba8e8646b019421787",
       "version_major": 2,
       "version_minor": 0
      },
      "text/plain": [
       "VBox()"
      ]
     },
     "metadata": {},
     "output_type": "display_data"
    },
    {
     "data": {
      "application/vnd.jupyter.widget-view+json": {
       "model_id": "",
       "version_major": 2,
       "version_minor": 0
      },
      "text/plain": [
       "FloatProgress(value=0.0, bar_style='info', description='Progress:', layout=Layout(height='25px', width='50%'),…"
      ]
     },
     "metadata": {},
     "output_type": "display_data"
    }
   ],
   "source": [
    "#reconfiguring SparkContext\n",
    "sc.setCheckpointDir('hdfs:///twitter/checkpoints')"
   ]
  },
  {
   "cell_type": "code",
   "execution_count": 4,
   "metadata": {},
   "outputs": [
    {
     "data": {
      "application/vnd.jupyter.widget-view+json": {
       "model_id": "7c5ec85dc7a54d6ea7ba57058b8ea187",
       "version_major": 2,
       "version_minor": 0
      },
      "text/plain": [
       "VBox()"
      ]
     },
     "metadata": {},
     "output_type": "display_data"
    },
    {
     "data": {
      "application/vnd.jupyter.widget-view+json": {
       "model_id": "",
       "version_major": 2,
       "version_minor": 0
      },
      "text/plain": [
       "FloatProgress(value=0.0, bar_style='info', description='Progress:', layout=Layout(height='25px', width='50%'),…"
      ]
     },
     "metadata": {},
     "output_type": "display_data"
    },
    {
     "name": "stdout",
     "output_type": "stream",
     "text": [
      "2048M\n",
      "1000"
     ]
    }
   ],
   "source": [
    "import time\n",
    "import os\n",
    "import boto3\n",
    "import gc\n",
    "import sys\n",
    "import numpy as np\n",
    "import pandas as pd\n",
    "import pickle\n",
    "import pyspark\n",
    "from pyspark.sql import SparkSession\n",
    "from pyspark.sql.types import (FloatType, DateType, StructType, StructField, StringType, LongType,\n",
    "                               IntegerType, ArrayType, BooleanType, DoubleType)\n",
    "from pyspark.sql import functions as F\n",
    "from pyspark.sql.window import Window\n",
    "from pyspark.ml.feature import VectorAssembler, StandardScaler, QuantileDiscretizer\n",
    "from pyspark.ml.clustering import KMeans\n",
    "from pyspark.ml import Pipeline, PipelineModel\n",
    "gc.enable()\n",
    "\n",
    "spark = SparkSession.builder.config(\"spark.sql.shuffle.partitions\", 1000).appName(\"twitter\").getOrCreate()\n",
    "print(spark.sparkContext.getConf().get('spark.driver.memory'))\n",
    "print(spark.sparkContext.getConf().get(\"spark.sql.shuffle.partitions\"))"
   ]
  },
  {
   "cell_type": "markdown",
   "metadata": {},
   "source": [
    "# Functions"
   ]
  },
  {
   "cell_type": "markdown",
   "metadata": {},
   "source": [
    "## Preprocessing"
   ]
  },
  {
   "cell_type": "code",
   "execution_count": 5,
   "metadata": {},
   "outputs": [
    {
     "data": {
      "application/vnd.jupyter.widget-view+json": {
       "model_id": "05fadcc7428244bb993866546ef43206",
       "version_major": 2,
       "version_minor": 0
      },
      "text/plain": [
       "VBox()"
      ]
     },
     "metadata": {},
     "output_type": "display_data"
    },
    {
     "data": {
      "application/vnd.jupyter.widget-view+json": {
       "model_id": "",
       "version_major": 2,
       "version_minor": 0
      },
      "text/plain": [
       "FloatProgress(value=0.0, bar_style='info', description='Progress:', layout=Layout(height='25px', width='50%'),…"
      ]
     },
     "metadata": {},
     "output_type": "display_data"
    }
   ],
   "source": [
    "def validator(df):\n",
    "    columns_w_nan = {}\n",
    "    for col in df.schema:\n",
    "        null_count = df.filter(F.col(col.name).isNull()).count()\n",
    "        if null_count>0:\n",
    "            columns_w_nan[col.name]=null_count\n",
    "    return columns_w_nan"
   ]
  },
  {
   "cell_type": "markdown",
   "metadata": {},
   "source": [
    "# Inputs"
   ]
  },
  {
   "cell_type": "code",
   "execution_count": 6,
   "metadata": {},
   "outputs": [
    {
     "data": {
      "application/vnd.jupyter.widget-view+json": {
       "model_id": "cdda74902e7b46b1b652b86b66a5060d",
       "version_major": 2,
       "version_minor": 0
      },
      "text/plain": [
       "VBox()"
      ]
     },
     "metadata": {},
     "output_type": "display_data"
    },
    {
     "data": {
      "application/vnd.jupyter.widget-view+json": {
       "model_id": "",
       "version_major": 2,
       "version_minor": 0
      },
      "text/plain": [
       "FloatProgress(value=0.0, bar_style='info', description='Progress:', layout=Layout(height='25px', width='50%'),…"
      ]
     },
     "metadata": {},
     "output_type": "display_data"
    }
   ],
   "source": [
    "dictionary_size={\"final-complete\": {\"val_size\": 500000, \n",
    "                                    \"train_size\": \"all\"}}\n",
    "\n",
    "training = True\n",
    "submission = False\n",
    "test = False\n",
    "\n",
    "bucket='bucket-name'\n",
    "s3_resource = boto3.resource('s3')\n",
    "top_k_languages = 30\n",
    "top_k_domains = 3000\n",
    "top_k_hashtags = 13000\n",
    "\n",
    "# Embeddings\n",
    "num_partitions=1000\n",
    "\n",
    "# Buckets\n",
    "partition_per_cluster = 400\n",
    "\n",
    "suffix_sample = \"final-complete\" #\"full\", \"small\", \"medium\", \"sub_medium\"\n",
    "data_path = \"final-data\"\n",
    "object_paths = \"final-artifacts\"\n",
    "\n",
    "val_size = dictionary_size[suffix_sample][\"val_size\"]\n",
    "train_size = dictionary_size[suffix_sample][\"train_size\"]\n",
    "\n",
    "bucket_s3 = s3_resource.Bucket(bucket)"
   ]
  },
  {
   "cell_type": "markdown",
   "metadata": {},
   "source": [
    "**Paths**"
   ]
  },
  {
   "cell_type": "code",
   "execution_count": 7,
   "metadata": {},
   "outputs": [
    {
     "data": {
      "application/vnd.jupyter.widget-view+json": {
       "model_id": "404b766efbcd403d99fb12f14bfee473",
       "version_major": 2,
       "version_minor": 0
      },
      "text/plain": [
       "VBox()"
      ]
     },
     "metadata": {},
     "output_type": "display_data"
    },
    {
     "data": {
      "application/vnd.jupyter.widget-view+json": {
       "model_id": "",
       "version_major": 2,
       "version_minor": 0
      },
      "text/plain": [
       "FloatProgress(value=0.0, bar_style='info', description='Progress:', layout=Layout(height='25px', width='50%'),…"
      ]
     },
     "metadata": {},
     "output_type": "display_data"
    }
   ],
   "source": [
    "#S3\n",
    "twitter_bucket_s3 = \"s3a://bucket-name\"\n",
    "trainining_path = os.path.join(twitter_bucket_s3, \"data\", \"raw\", \"final\", \"training.tsv\")\n",
    "submission_path = os.path.join(twitter_bucket_s3, \"data\", \"raw\", \"final\", \"submission.tsv\")\n",
    "test_path = os.path.join(twitter_bucket_s3, \"data\", \"raw\", \"final\", \"test.tsv\")\n",
    "\n",
    "# Splitted paths\n",
    "train_path = os.path.join(twitter_bucket_s3, data_path, \"train-\"+suffix_sample)\n",
    "val_path = os.path.join(twitter_bucket_s3, data_path, \"val-\"+suffix_sample)\n",
    "\n",
    "# Processed\n",
    "processed_train_path = os.path.join(twitter_bucket_s3, data_path, \"processed\", \"train-\"+suffix_sample)\n",
    "processed_val_path = os.path.join(twitter_bucket_s3, data_path, \"processed\", \"val-\"+suffix_sample)\n",
    "processed_submission_path = os.path.join(twitter_bucket_s3, data_path, \"processed\", \"submission-\"+suffix_sample)\n",
    "processed_test_path = os.path.join(twitter_bucket_s3, data_path, \"processed\", \"test-\"+suffix_sample)\n",
    "processed_emb_train_path = os.path.join(twitter_bucket_s3, data_path, \"processed-embeddings-final\", \n",
    "                                        \"train-\"+suffix_sample)\n",
    "processed_emb_val_path = os.path.join(twitter_bucket_s3, data_path, \"processed-embeddings-final\", \n",
    "                                      \"val-\"+suffix_sample)\n",
    "processed_emb_submission_path = os.path.join(twitter_bucket_s3, data_path, \"processed-embeddings-final\", \n",
    "                                         \"submission-\"+suffix_sample)\n",
    "processed_emb_test_path = os.path.join(twitter_bucket_s3, data_path, \"processed-embeddings-final\", \n",
    "                                         \"test-\"+suffix_sample)\n",
    "processed_top_train_path = os.path.join(twitter_bucket_s3, data_path, \"processed-topics\", \n",
    "                                        \"train-\"+suffix_sample)\n",
    "processed_top_val_path = os.path.join(twitter_bucket_s3, data_path, \"processed-topics\", \n",
    "                                      \"val-\"+suffix_sample)\n",
    "processed_top_submission_path = os.path.join(twitter_bucket_s3, data_path, \"processed-topics\", \n",
    "                                             \"submission-\"+suffix_sample)\n",
    "processed_top_test_path = os.path.join(twitter_bucket_s3, data_path, \"processed-topics\", \n",
    "                                             \"test-\"+suffix_sample)\n",
    "# Resources\n",
    "engaging_users_training_path = os.path.join(twitter_bucket_s3, data_path, \"engaging-users-training\")\n",
    "engaging_users_submission_path = os.path.join(twitter_bucket_s3, data_path, \"engaging-users-submission\")\n",
    "engaging_users_test_path = os.path.join(twitter_bucket_s3, data_path, \"engaging-users-test\")\n",
    "intentions_path = os.path.join(twitter_bucket_s3, data_path, \"intentions-\"+suffix_sample)\n",
    "map_user_bucket_path = os.path.join(twitter_bucket_s3, data_path, \"map_user_bucket_new\")\n",
    "\n",
    "topic_encodings_path = os.path.join(twitter_bucket_s3, \"data\", \"textEncodings\", \"user_topics\")\n",
    "users_intime_path = os.path.join(twitter_bucket_s3, data_path, \"users_intime-\"+suffix_sample)\n",
    "\n",
    "# keys objects\n",
    "key_hashtag_mapping = os.path.join(object_paths, f'hashtag_mapping_{suffix_sample}.pkl')\n",
    "key_domain_mapping = os.path.join(object_paths, f'domain_mapping_{suffix_sample}.pkl')\n",
    "key_language_mapping = os.path.join(object_paths, f'language_mapping_{suffix_sample}.pkl')\n",
    "key_hashtag_count = os.path.join(object_paths, f'hashtag_count_{suffix_sample}.pkl')\n",
    "key_domain_count = os.path.join(object_paths, f'domain_count_{suffix_sample}.pkl')\n",
    "key_scaling_features = os.path.join(object_paths, f'scaling_dictionary_{suffix_sample}.pkl')\n",
    "key_diff_min = os.path.join(object_paths, f'diff_min_{suffix_sample}.pkl')\n",
    "key_impute_perc = os.path.join(object_paths, f'dict_mean_perc_{suffix_sample}.pkl')\n",
    "\n",
    "# s3+keys\n",
    "columns = [\"engaged_with_user_follower_count\", \"engaged_with_user_following_count\",\n",
    "           \"engaged_with_user_account_creation\", \"engaging_user_follower_count\",\n",
    "           \"engaging_user_following_count\", \"engaging_user_account_creation\"]\n",
    "qds_paths = {}\n",
    "for col in columns:\n",
    "    qds_paths[col] = os.path.join(twitter_bucket_s3, object_paths, f\"qs_{suffix_sample}_\" + col)\n",
    "    \n",
    "# Bucket pipeline\n",
    "users_buckets = os.path.join(twitter_bucket_s3, data_path, \"users_buckets\") #\n",
    "users_buckets_part_2 = os.path.join(twitter_bucket_s3, data_path, \"users_buckets_part_2_new\") #\n",
    "\n",
    "pipeline_kmeans_path = os.path.join(twitter_bucket_s3, object_paths, \"pipeline_id_encoding_new\")\n",
    "cluster_map_path = os.path.join(twitter_bucket_s3, data_path, \"cluster_map_new\")\n",
    "\n",
    "# Embeddings\n",
    "bert_embeddings_train = os.path.join(twitter_bucket_s3, \"data\", \"textEncodings\", \"tweets_extended\")\n",
    "submission_rawTweetEncodings_path = os.path.join(twitter_bucket_s3, \"data\", \"textEncodings\", \"submissionEmbs.txt\")\n",
    "test_rawTweetEncodings_path = None\n",
    "\n",
    "# Topics pipeline\n",
    "reduced_topics_path = os.path.join(twitter_bucket_s3, \"data\", \"textEncodings\", \"reducedTopics\")"
   ]
  },
  {
   "cell_type": "markdown",
   "metadata": {},
   "source": [
    "# Embedding_id_users"
   ]
  },
  {
   "cell_type": "code",
   "execution_count": 8,
   "metadata": {},
   "outputs": [
    {
     "data": {
      "application/vnd.jupyter.widget-view+json": {
       "model_id": "f91a4a61410e426ea54765a011394103",
       "version_major": 2,
       "version_minor": 0
      },
      "text/plain": [
       "VBox()"
      ]
     },
     "metadata": {},
     "output_type": "display_data"
    },
    {
     "data": {
      "application/vnd.jupyter.widget-view+json": {
       "model_id": "",
       "version_major": 2,
       "version_minor": 0
      },
      "text/plain": [
       "FloatProgress(value=0.0, bar_style='info', description='Progress:', layout=Layout(height='25px', width='50%'),…"
      ]
     },
     "metadata": {},
     "output_type": "display_data"
    }
   ],
   "source": [
    "def parse_data(path='training.tsv', has_labels=True, schema='auto'):\n",
    "    \"\"\"\n",
    "    Parses the training data for the Twitter RecSys Challenge.\n",
    "    \"\"\"\n",
    "    spark = SparkSession.builder.appName(\"twitter\").getOrCreate()\n",
    "    if schema == 'auto':\n",
    "        schema = build_schema(has_labels)\n",
    "    df = spark.read.csv(path, schema=schema, sep='\\x01', encoding='utf-8',\n",
    "                        ignoreLeadingWhiteSpace=True, ignoreTrailingWhiteSpace=True)\n",
    "    df = df.withColumn('text_tokens', F.split('text_tokens', '\\t'))\n",
    "    df = df.withColumn('hashtags', F.split('hashtags', '\\t'))\n",
    "    df = df.withColumn('present_media', F.split('present_media', '\\t'))\n",
    "    df = df.withColumn('present_links', F.split('present_links', '\\t'))\n",
    "    df = df.withColumn('present_domains', F.split('present_domains', '\\t'))\n",
    "    return df\n",
    "\n",
    "def build_schema(has_labels=True):\n",
    "    if has_labels:\n",
    "        schema = StructType([StructField('text_tokens', StringType()),\n",
    "                             StructField('hashtags', StringType()),\n",
    "                             StructField('tweet_id', StringType()),\n",
    "                             StructField('present_media', StringType()),\n",
    "                             StructField('present_links', StringType()),\n",
    "                             StructField('present_domains', StringType()),\n",
    "                             StructField('tweet_type', StringType()),\n",
    "                             StructField('language', StringType()),\n",
    "                             StructField('tweet_timestamp', LongType()),\n",
    "                             StructField('engaged_with_user_id', StringType()),\n",
    "                             StructField('engaged_with_user_follower_count', IntegerType()),\n",
    "                             StructField('engaged_with_user_following_count', IntegerType()),\n",
    "                             StructField('engaged_with_user_is_verified', BooleanType()),\n",
    "                             StructField('engaged_with_user_account_creation', LongType()),\n",
    "                             StructField('engaging_user_id', StringType()),\n",
    "                             StructField('engaging_user_follower_count', IntegerType()),\n",
    "                             StructField('engaging_user_following_count', IntegerType()),\n",
    "                             StructField('engaging_user_is_verified', BooleanType()),\n",
    "                             StructField('engaging_user_account_creation', LongType()),\n",
    "                             StructField('engagee_follows_engager', BooleanType()),\n",
    "                             StructField('reply_timestamp', LongType()),\n",
    "                             StructField('retweet_timestamp', LongType()),\n",
    "                             StructField('retweet_with_comment_timestamp', LongType()),\n",
    "                             StructField('like_timestamp', LongType())\n",
    "                            ])\n",
    "    else:\n",
    "         schema = StructType([StructField('text_tokens', StringType()),\n",
    "                             StructField('hashtags', StringType()),\n",
    "                             StructField('tweet_id', StringType()),\n",
    "                             StructField('present_media', StringType()),\n",
    "                             StructField('present_links', StringType()),\n",
    "                             StructField('present_domains', StringType()),\n",
    "                             StructField('tweet_type', StringType()),\n",
    "                             StructField('language', StringType()),\n",
    "                             StructField('tweet_timestamp', LongType()),\n",
    "                             StructField('engaged_with_user_id', StringType()),\n",
    "                             StructField('engaged_with_user_follower_count', IntegerType()),\n",
    "                             StructField('engaged_with_user_following_count', IntegerType()),\n",
    "                             StructField('engaged_with_user_is_verified', BooleanType()),\n",
    "                             StructField('engaged_with_user_account_creation', LongType()),\n",
    "                             StructField('engaging_user_id', StringType()),\n",
    "                             StructField('engaging_user_follower_count', IntegerType()),\n",
    "                             StructField('engaging_user_following_count', IntegerType()),\n",
    "                             StructField('engaging_user_is_verified', BooleanType()),\n",
    "                             StructField('engaging_user_account_creation', LongType()),\n",
    "                             StructField('engagee_follows_engager', BooleanType())\n",
    "                            ])\n",
    "    return schema"
   ]
  },
  {
   "cell_type": "markdown",
   "metadata": {},
   "source": [
    "## Buckets for users which appears the most"
   ]
  },
  {
   "cell_type": "code",
   "execution_count": 9,
   "metadata": {},
   "outputs": [
    {
     "data": {
      "application/vnd.jupyter.widget-view+json": {
       "model_id": "e4e984e4531e418c9a0126a807ec0e57",
       "version_major": 2,
       "version_minor": 0
      },
      "text/plain": [
       "VBox()"
      ]
     },
     "metadata": {},
     "output_type": "display_data"
    },
    {
     "data": {
      "application/vnd.jupyter.widget-view+json": {
       "model_id": "",
       "version_major": 2,
       "version_minor": 0
      },
      "text/plain": [
       "FloatProgress(value=0.0, bar_style='info', description='Progress:', layout=Layout(height='25px', width='50%'),…"
      ]
     },
     "metadata": {},
     "output_type": "display_data"
    }
   ],
   "source": [
    "training_df = parse_data(trainining_path, has_labels=True).repartition(600)"
   ]
  },
  {
   "cell_type": "code",
   "execution_count": 10,
   "metadata": {},
   "outputs": [
    {
     "data": {
      "application/vnd.jupyter.widget-view+json": {
       "model_id": "4a3ec8618ae1439bb725333fb8a019dc",
       "version_major": 2,
       "version_minor": 0
      },
      "text/plain": [
       "VBox()"
      ]
     },
     "metadata": {},
     "output_type": "display_data"
    },
    {
     "data": {
      "application/vnd.jupyter.widget-view+json": {
       "model_id": "",
       "version_major": 2,
       "version_minor": 0
      },
      "text/plain": [
       "FloatProgress(value=0.0, bar_style='info', description='Progress:', layout=Layout(height='25px', width='50%'),…"
      ]
     },
     "metadata": {},
     "output_type": "display_data"
    },
    {
     "name": "stdout",
     "output_type": "stream",
     "text": [
      "121386431"
     ]
    }
   ],
   "source": [
    "training_df.count()"
   ]
  },
  {
   "cell_type": "code",
   "execution_count": 11,
   "metadata": {},
   "outputs": [
    {
     "data": {
      "application/vnd.jupyter.widget-view+json": {
       "model_id": "4ced027e12414440bc64fb33d5c4b516",
       "version_major": 2,
       "version_minor": 0
      },
      "text/plain": [
       "VBox()"
      ]
     },
     "metadata": {},
     "output_type": "display_data"
    },
    {
     "data": {
      "application/vnd.jupyter.widget-view+json": {
       "model_id": "",
       "version_major": 2,
       "version_minor": 0
      },
      "text/plain": [
       "FloatProgress(value=0.0, bar_style='info', description='Progress:', layout=Layout(height='25px', width='50%'),…"
      ]
     },
     "metadata": {},
     "output_type": "display_data"
    },
    {
     "name": "stdout",
     "output_type": "stream",
     "text": [
      "Already exists"
     ]
    }
   ],
   "source": [
    "if len(list(bucket_s3.objects.filter(Prefix=f\"{data_path}/users_buckets\", Delimiter='./')))==0:\n",
    "    engaging_user_id_id = training_df.select(F.col(\"engaging_user_id\").alias(\"user_id\"))\n",
    "    engaged_with_user_id_id = training_df.select(F.col(\"engaged_with_user_id\").alias(\"user_id\"))\n",
    "    total_users = engaging_user_id_id.union(engaged_with_user_id_id)\n",
    "    col=\"user_id\"\n",
    "    col_dist = total_users.select(col)\\\n",
    "                          .groupBy(col).count()\n",
    "    \n",
    "    bucketizer_users = col_dist.filter(F.col(\"count\")>=71)\n",
    "    w = Window.orderBy(F.col(\"count\").desc())\n",
    "    bucketizer_users = bucketizer_users.withColumn(\"bucket\", F.row_number().over(w))\n",
    "    bucketizer_users = bucketizer_users.drop(\"count\", \"in_submission\")\n",
    "    \n",
    "    col_dist = col_dist.join(bucketizer_users, on=\"user_id\", how=\"left\")\n",
    "    col_dist.write.csv(users_buckets)\n",
    "else:\n",
    "    print(\"Already exists\")\n",
    "\n",
    "col_dist = spark.read.csv(users_buckets, \n",
    "                          schema=StructType([StructField('user_id', StringType()),\n",
    "                                             StructField('count', IntegerType()),\n",
    "                                             StructField('bucket', IntegerType())]))\n",
    "col_dist = col_dist.orderBy(F.col(\"count\").desc())"
   ]
  },
  {
   "cell_type": "code",
   "execution_count": 12,
   "metadata": {},
   "outputs": [
    {
     "data": {
      "application/vnd.jupyter.widget-view+json": {
       "model_id": "104e8cac671c46d1978acc8f2083a897",
       "version_major": 2,
       "version_minor": 0
      },
      "text/plain": [
       "VBox()"
      ]
     },
     "metadata": {},
     "output_type": "display_data"
    },
    {
     "data": {
      "application/vnd.jupyter.widget-view+json": {
       "model_id": "",
       "version_major": 2,
       "version_minor": 0
      },
      "text/plain": [
       "FloatProgress(value=0.0, bar_style='info', description='Progress:', layout=Layout(height='25px', width='50%'),…"
      ]
     },
     "metadata": {},
     "output_type": "display_data"
    }
   ],
   "source": [
    "main_buckets = col_dist.select(F.max(\"bucket\")).first()[0]"
   ]
  },
  {
   "cell_type": "code",
   "execution_count": 13,
   "metadata": {},
   "outputs": [
    {
     "data": {
      "application/vnd.jupyter.widget-view+json": {
       "model_id": "8cfebf155c37477b9b541af3beb2cad1",
       "version_major": 2,
       "version_minor": 0
      },
      "text/plain": [
       "VBox()"
      ]
     },
     "metadata": {},
     "output_type": "display_data"
    },
    {
     "data": {
      "application/vnd.jupyter.widget-view+json": {
       "model_id": "",
       "version_major": 2,
       "version_minor": 0
      },
      "text/plain": [
       "FloatProgress(value=0.0, bar_style='info', description='Progress:', layout=Layout(height='25px', width='50%'),…"
      ]
     },
     "metadata": {},
     "output_type": "display_data"
    },
    {
     "name": "stdout",
     "output_type": "stream",
     "text": [
      "215598"
     ]
    }
   ],
   "source": [
    "main_buckets"
   ]
  },
  {
   "cell_type": "markdown",
   "metadata": {},
   "source": [
    "## Kmeans_process"
   ]
  },
  {
   "cell_type": "markdown",
   "metadata": {},
   "source": [
    "**Saving kmean model**"
   ]
  },
  {
   "cell_type": "code",
   "execution_count": 14,
   "metadata": {},
   "outputs": [
    {
     "data": {
      "application/vnd.jupyter.widget-view+json": {
       "model_id": "1b83c949d6d24e5e926306f4cc7da1cd",
       "version_major": 2,
       "version_minor": 0
      },
      "text/plain": [
       "VBox()"
      ]
     },
     "metadata": {},
     "output_type": "display_data"
    },
    {
     "data": {
      "application/vnd.jupyter.widget-view+json": {
       "model_id": "",
       "version_major": 2,
       "version_minor": 0
      },
      "text/plain": [
       "FloatProgress(value=0.0, bar_style='info', description='Progress:', layout=Layout(height='25px', width='50%'),…"
      ]
     },
     "metadata": {},
     "output_type": "display_data"
    },
    {
     "name": "stdout",
     "output_type": "stream",
     "text": [
      "Creating Kmeans pipeline"
     ]
    }
   ],
   "source": [
    "if training:\n",
    "    if len(list(bucket_s3.objects.filter(Prefix=object_paths+\"/pipeline_id_encoding_new\", Delimiter='./')))==0:\n",
    "        print(\"Creating Kmeans pipeline\")\n",
    "        engaged_with_df = training_df.select(F.col(\"engaged_with_user_id\").alias(\"user_id\"), \n",
    "                                             F.col(\"engaged_with_user_follower_count\").alias(\"follower_count\"), \n",
    "                                             F.col(\"engaged_with_user_following_count\").alias(\"following_count\"),\n",
    "                                             F.col(\"engaged_with_user_is_verified\").alias(\"is_verified\"), \n",
    "                                             F.col(\"engaged_with_user_account_creation\").alias(\"account_creation\"))\n",
    "        engaging_df = training_df.select(F.col(\"engaging_user_id\").alias(\"user_id\"), \n",
    "                                         F.col(\"engaging_user_follower_count\").alias(\"follower_count\"), \n",
    "                                         F.col(\"engaging_user_following_count\").alias(\"following_count\"),\n",
    "                                         F.col(\"engaging_user_is_verified\").alias(\"is_verified\"), \n",
    "                                         F.col(\"engaging_user_account_creation\").alias(\"account_creation\"))\n",
    "        user_df = engaging_df.union(engaged_with_df)\n",
    "\n",
    "        user_ids_missing = col_dist.select(\"user_id\", \"bucket\").filter(F.col(\"bucket\").isNull()).drop(\"bucket\")\n",
    "        user_kmeans = user_ids_missing.join(user_df, on=\"user_id\", how=\"left\")\n",
    "        grouped = user_kmeans.groupBy(\"user_id\").agg(F.max(F.col(\"follower_count\")).alias(\"follower_count\"), \n",
    "                                                     F.max(F.col(\"following_count\")).alias(\"following_count\"),\n",
    "                                                     F.max(F.col(\"is_verified\")).alias(\"is_verified\"),\n",
    "                                                     F.max(F.col(\"account_creation\")).alias(\"account_creation\"))\n",
    "        cols_for_training = [\"follower_count\", \"following_count\", \"is_verified\", \"account_creation\"]\n",
    "        vectorAssembler = VectorAssembler(inputCols=cols_for_training,\n",
    "                                          outputCol=\"features\")\n",
    "        ss = StandardScaler(inputCol=\"features\", \n",
    "                            outputCol=\"features_ss\", \n",
    "                            withStd=True, \n",
    "                            withMean=True)\n",
    "        clustering = KMeans(k=60, \n",
    "                            featuresCol=\"features_ss\", \n",
    "                            predictionCol=\"cluster\")\n",
    "        pipeline_like = Pipeline(stages=[vectorAssembler, ss, clustering])\n",
    "        model_like = pipeline_like.fit(grouped)\n",
    "        model_like.save(pipeline_kmeans_path)\n",
    "    else:\n",
    "        model_like = PipelineModel.load(pipeline_kmeans_path)\n",
    "        print(\"Kmeans already create\")\n",
    "else:\n",
    "    model_like = PipelineModel.load(pipeline_kmeans_path)"
   ]
  },
  {
   "cell_type": "markdown",
   "metadata": {},
   "source": [
    "**Cluster map**"
   ]
  },
  {
   "cell_type": "code",
   "execution_count": 17,
   "metadata": {},
   "outputs": [
    {
     "data": {
      "application/vnd.jupyter.widget-view+json": {
       "model_id": "904148c5e26c48268e60a23866914494",
       "version_major": 2,
       "version_minor": 0
      },
      "text/plain": [
       "VBox()"
      ]
     },
     "metadata": {},
     "output_type": "display_data"
    },
    {
     "data": {
      "application/vnd.jupyter.widget-view+json": {
       "model_id": "",
       "version_major": 2,
       "version_minor": 0
      },
      "text/plain": [
       "FloatProgress(value=0.0, bar_style='info', description='Progress:', layout=Layout(height='25px', width='50%'),…"
      ]
     },
     "metadata": {},
     "output_type": "display_data"
    }
   ],
   "source": [
    "if training:\n",
    "    if len(list(bucket_s3.objects.filter(Prefix=f\"{data_path}/cluster_map_new\", Delimiter='./')))==0:\n",
    "        preds_cluster = model_like.transform(grouped)\n",
    "        cluster_map = preds_cluster.groupBy(\"cluster\").count()\n",
    "        output = cluster_map.filter(F.col(\"count\")<450).select(F.collect_set(\"cluster\")).collect()\n",
    "        good_clusters = cluster_map.filter(~F.col(\"cluster\").isin(output[0][0]))\n",
    "        good_clusters = good_clusters.withColumn(\"id_cluster\", F.row_number().over(Window.orderBy(F.col(\"count\").desc())))\n",
    "        good_clusters = good_clusters.drop(\"count\")\n",
    "        cluster_map = cluster_map.join(good_clusters, on=\"cluster\", how=\"left\")\n",
    "        cluster_map = cluster_map.withColumn(\"id_cluster\", F.when(F.col(\"id_cluster\").isNotNull(), F.col(\"id_cluster\")).otherwise(0))\n",
    "        cluster_map.write.csv(cluster_map_path)\n",
    "    else:\n",
    "        print(\"Cluster map  already created\")\n",
    "\n",
    "cluster_map = spark.read.csv(cluster_map_path, \n",
    "                             schema=StructType([StructField('cluster', IntegerType()),\n",
    "                                                StructField('count', LongType()),\n",
    "                                                StructField('id_cluster', IntegerType())]))\n",
    "cluster_map = cluster_map.drop(\"count\")"
   ]
  },
  {
   "cell_type": "markdown",
   "metadata": {},
   "source": [
    "## Transform"
   ]
  },
  {
   "cell_type": "code",
   "execution_count": 18,
   "metadata": {},
   "outputs": [
    {
     "data": {
      "application/vnd.jupyter.widget-view+json": {
       "model_id": "a4b1b5f3f2ea454f99853ed5dfae9d18",
       "version_major": 2,
       "version_minor": 0
      },
      "text/plain": [
       "VBox()"
      ]
     },
     "metadata": {},
     "output_type": "display_data"
    },
    {
     "data": {
      "application/vnd.jupyter.widget-view+json": {
       "model_id": "",
       "version_major": 2,
       "version_minor": 0
      },
      "text/plain": [
       "FloatProgress(value=0.0, bar_style='info', description='Progress:', layout=Layout(height='25px', width='50%'),…"
      ]
     },
     "metadata": {},
     "output_type": "display_data"
    }
   ],
   "source": [
    "training_df = parse_data(trainining_path, has_labels=True).repartition(600)\n",
    "submission_df = parse_data(submission_path, has_labels=False).repartition(400)\n",
    "test_df = parse_data(test_path, has_labels=False).repartition(400)"
   ]
  },
  {
   "cell_type": "code",
   "execution_count": 19,
   "metadata": {},
   "outputs": [
    {
     "data": {
      "application/vnd.jupyter.widget-view+json": {
       "model_id": "d9ccc17e703a4883ad3d57464c8bf5bf",
       "version_major": 2,
       "version_minor": 0
      },
      "text/plain": [
       "VBox()"
      ]
     },
     "metadata": {},
     "output_type": "display_data"
    },
    {
     "data": {
      "application/vnd.jupyter.widget-view+json": {
       "model_id": "",
       "version_major": 2,
       "version_minor": 0
      },
      "text/plain": [
       "FloatProgress(value=0.0, bar_style='info', description='Progress:', layout=Layout(height='25px', width='50%'),…"
      ]
     },
     "metadata": {},
     "output_type": "display_data"
    }
   ],
   "source": [
    "if len(list(bucket_s3.objects.filter(Prefix=f\"{data_path}/users_buckets_part_2_new\", Delimiter='./')))==0:\n",
    "    engaged_with_df = training_df.select(F.col(\"engaged_with_user_id\").alias(\"user_id\"), \n",
    "                                         F.col(\"engaged_with_user_follower_count\").alias(\"follower_count\"), \n",
    "                                         F.col(\"engaged_with_user_following_count\").alias(\"following_count\"),\n",
    "                                         F.col(\"engaged_with_user_is_verified\").alias(\"is_verified\"), \n",
    "                                         F.col(\"engaged_with_user_account_creation\").alias(\"account_creation\"))\n",
    "    engaging_df = training_df.select(F.col(\"engaging_user_id\").alias(\"user_id\"), \n",
    "                                     F.col(\"engaging_user_follower_count\").alias(\"follower_count\"), \n",
    "                                     F.col(\"engaging_user_following_count\").alias(\"following_count\"),\n",
    "                                     F.col(\"engaging_user_is_verified\").alias(\"is_verified\"), \n",
    "                                     F.col(\"engaging_user_account_creation\").alias(\"account_creation\"))\n",
    "    user_df = engaging_df.union(engaged_with_df)\n",
    "\n",
    "    engaged_with_df_sub = submission_df.select(F.col(\"engaged_with_user_id\").alias(\"user_id\"), \n",
    "                                         F.col(\"engaged_with_user_follower_count\").alias(\"follower_count\"), \n",
    "                                         F.col(\"engaged_with_user_following_count\").alias(\"following_count\"),\n",
    "                                         F.col(\"engaged_with_user_is_verified\").alias(\"is_verified\"), \n",
    "                                         F.col(\"engaged_with_user_account_creation\").alias(\"account_creation\"))\n",
    "    engaging_df_sub = submission_df.select(F.col(\"engaging_user_id\").alias(\"user_id\"), \n",
    "                                     F.col(\"engaging_user_follower_count\").alias(\"follower_count\"), \n",
    "                                     F.col(\"engaging_user_following_count\").alias(\"following_count\"),\n",
    "                                     F.col(\"engaging_user_is_verified\").alias(\"is_verified\"), \n",
    "                                     F.col(\"engaging_user_account_creation\").alias(\"account_creation\"))\n",
    "    user_df_sub = engaging_df_sub.union(engaged_with_df_sub)\n",
    "    user_df = user_df.union(user_df_sub) # Union\n",
    "    \n",
    "    engaged_with_df_test = test_df.select(F.col(\"engaged_with_user_id\").alias(\"user_id\"), \n",
    "                                         F.col(\"engaged_with_user_follower_count\").alias(\"follower_count\"), \n",
    "                                         F.col(\"engaged_with_user_following_count\").alias(\"following_count\"),\n",
    "                                         F.col(\"engaged_with_user_is_verified\").alias(\"is_verified\"), \n",
    "                                         F.col(\"engaged_with_user_account_creation\").alias(\"account_creation\"))\n",
    "    engaging_df_test = test_df.select(F.col(\"engaging_user_id\").alias(\"user_id\"), \n",
    "                                     F.col(\"engaging_user_follower_count\").alias(\"follower_count\"), \n",
    "                                     F.col(\"engaging_user_following_count\").alias(\"following_count\"),\n",
    "                                     F.col(\"engaging_user_is_verified\").alias(\"is_verified\"), \n",
    "                                     F.col(\"engaging_user_account_creation\").alias(\"account_creation\"))\n",
    "    user_df_test = engaging_df_test.union(engaged_with_df_test)\n",
    "    user_df = user_df.union(user_df_test) # Union\n",
    "\n",
    "    user_ids_already_bucketized = col_dist.select(F.col(\"user_id\").alias(\"user_bucketized\"), \n",
    "                                                  F.col(\"bucket\")).filter(F.col(\"bucket\").isNotNull()).drop(\"bucket\")\n",
    "    user_kmeans = user_df.join(user_ids_already_bucketized, \n",
    "                               (user_df.user_id==user_ids_already_bucketized.user_bucketized), \n",
    "                               how=\"left\")\n",
    "    user_kmeans = user_kmeans.filter(F.col(\"user_bucketized\").isNull())\n",
    "    grouped = user_kmeans.groupBy(\"user_id\").agg(F.max(F.col(\"follower_count\")).alias(\"follower_count\"),\n",
    "                                                 F.max(F.col(\"following_count\")).alias(\"following_count\"),\n",
    "                                                 F.max(F.col(\"is_verified\")).alias(\"is_verified\"),\n",
    "                                                 F.max(F.col(\"account_creation\")).alias(\"account_creation\"))\n",
    "\n",
    "    preds_cluster= model_like.transform(grouped)\n",
    "    preds_cluster = preds_cluster.join(cluster_map, on=\"cluster\", how=\"left\")\n",
    "    preds_cluster = preds_cluster.withColumn(\"bucket_new\", \n",
    "                                             main_buckets+1+(F.col(\"id_cluster\")*partition_per_cluster)+F.abs(F.hash(F.col(\"user_id\"))%partition_per_cluster))\n",
    "    bucket_new_ids = preds_cluster.select(\"user_id\", \"id_cluster\", \"bucket_new\")\n",
    "    bucket_new_ids = bucket_new_ids.withColumn(\"bucket_new\", F.col(\"bucket_new\").cast(IntegerType()))\n",
    "    bucket_new_ids.write.csv(users_buckets_part_2)\n",
    "# Reading\n",
    "bucket_new_ids = spark.read.csv(users_buckets_part_2, \n",
    "                                schema= StructType([StructField('user_id', StringType()),\n",
    "                                                    StructField('id_cluster', IntegerType()),\n",
    "                                                    StructField('bucket_new', IntegerType())]))\n",
    "bucket_new_ids = bucket_new_ids.drop(\"id_cluster\")"
   ]
  },
  {
   "cell_type": "markdown",
   "metadata": {},
   "source": [
    "# Map_User_Bucket"
   ]
  },
  {
   "cell_type": "code",
   "execution_count": 20,
   "metadata": {},
   "outputs": [
    {
     "data": {
      "application/vnd.jupyter.widget-view+json": {
       "model_id": "40a48f0078674093a47642ad32e6852e",
       "version_major": 2,
       "version_minor": 0
      },
      "text/plain": [
       "VBox()"
      ]
     },
     "metadata": {},
     "output_type": "display_data"
    },
    {
     "data": {
      "application/vnd.jupyter.widget-view+json": {
       "model_id": "",
       "version_major": 2,
       "version_minor": 0
      },
      "text/plain": [
       "FloatProgress(value=0.0, bar_style='info', description='Progress:', layout=Layout(height='25px', width='50%'),…"
      ]
     },
     "metadata": {},
     "output_type": "display_data"
    },
    {
     "name": "stdout",
     "output_type": "stream",
     "text": [
      "Map User Bucket created"
     ]
    }
   ],
   "source": [
    "if len(list(bucket_s3.objects.filter(Prefix=f\"{data_path}/map_user_bucket_new\", Delimiter='./')))==0:\n",
    "    map_user_bucket = col_dist.join(bucket_new_ids, on=\"user_id\", how=\"outer\")\n",
    "    map_user_bucket = map_user_bucket.withColumn(\"final_bucket\", F.when(F.col(\"bucket\").isNotNull(), \n",
    "                                                                        F.col(\"bucket\")).otherwise(F.col(\"bucket_new\")))\n",
    "    map_user_bucket = map_user_bucket.select(\"user_id\", \"final_bucket\")\n",
    "    map_user_bucket.write.csv(map_user_bucket_path)\n",
    "    print(\"Map User Bucket created\")\n",
    "    \n",
    "map_user_bucket = spark.read.csv(map_user_bucket_path, \n",
    "                                 schema= StructType([StructField('user_id', StringType()),\n",
    "                                                StructField('final_bucket', IntegerType())]))"
   ]
  },
  {
   "cell_type": "markdown",
   "metadata": {},
   "source": [
    "-----"
   ]
  },
  {
   "cell_type": "code",
   "execution_count": 21,
   "metadata": {
    "scrolled": true
   },
   "outputs": [
    {
     "data": {
      "application/vnd.jupyter.widget-view+json": {
       "model_id": "b88219031ffa45cd9c93010444336654",
       "version_major": 2,
       "version_minor": 0
      },
      "text/plain": [
       "VBox()"
      ]
     },
     "metadata": {},
     "output_type": "display_data"
    },
    {
     "data": {
      "application/vnd.jupyter.widget-view+json": {
       "model_id": "",
       "version_major": 2,
       "version_minor": 0
      },
      "text/plain": [
       "FloatProgress(value=0.0, bar_style='info', description='Progress:', layout=Layout(height='25px', width='50%'),…"
      ]
     },
     "metadata": {},
     "output_type": "display_data"
    },
    {
     "name": "stdout",
     "output_type": "stream",
     "text": [
      "{}"
     ]
    }
   ],
   "source": [
    "validator(map_user_bucket)"
   ]
  },
  {
   "cell_type": "code",
   "execution_count": 22,
   "metadata": {},
   "outputs": [
    {
     "data": {
      "application/vnd.jupyter.widget-view+json": {
       "model_id": "47d6835ef4a94fc3994255ed3bd930f9",
       "version_major": 2,
       "version_minor": 0
      },
      "text/plain": [
       "VBox()"
      ]
     },
     "metadata": {},
     "output_type": "display_data"
    },
    {
     "data": {
      "application/vnd.jupyter.widget-view+json": {
       "model_id": "",
       "version_major": 2,
       "version_minor": 0
      },
      "text/plain": [
       "FloatProgress(value=0.0, bar_style='info', description='Progress:', layout=Layout(height='25px', width='50%'),…"
      ]
     },
     "metadata": {},
     "output_type": "display_data"
    },
    {
     "name": "stdout",
     "output_type": "stream",
     "text": [
      "DataFrame[user_id: string, final_bucket: int]"
     ]
    }
   ],
   "source": [
    "map_user_bucket"
   ]
  },
  {
   "cell_type": "code",
   "execution_count": 23,
   "metadata": {},
   "outputs": [
    {
     "data": {
      "application/vnd.jupyter.widget-view+json": {
       "model_id": "22d436c6133444e7b3b0ca8d94bb09cf",
       "version_major": 2,
       "version_minor": 0
      },
      "text/plain": [
       "VBox()"
      ]
     },
     "metadata": {},
     "output_type": "display_data"
    },
    {
     "data": {
      "application/vnd.jupyter.widget-view+json": {
       "model_id": "",
       "version_major": 2,
       "version_minor": 0
      },
      "text/plain": [
       "FloatProgress(value=0.0, bar_style='info', description='Progress:', layout=Layout(height='25px', width='50%'),…"
      ]
     },
     "metadata": {},
     "output_type": "display_data"
    }
   ],
   "source": [
    "training_df = parse_data(trainining_path, has_labels=True).repartition(600)\n",
    "submission_df = parse_data(submission_path, has_labels=False).repartition(300)\n",
    "test_df = parse_data(test_path, has_labels=False).repartition(300)"
   ]
  },
  {
   "cell_type": "code",
   "execution_count": 24,
   "metadata": {},
   "outputs": [
    {
     "data": {
      "application/vnd.jupyter.widget-view+json": {
       "model_id": "d81cd42c7f8f4bf9969999463bc87d72",
       "version_major": 2,
       "version_minor": 0
      },
      "text/plain": [
       "VBox()"
      ]
     },
     "metadata": {},
     "output_type": "display_data"
    },
    {
     "data": {
      "application/vnd.jupyter.widget-view+json": {
       "model_id": "",
       "version_major": 2,
       "version_minor": 0
      },
      "text/plain": [
       "FloatProgress(value=0.0, bar_style='info', description='Progress:', layout=Layout(height='25px', width='50%'),…"
      ]
     },
     "metadata": {},
     "output_type": "display_data"
    }
   ],
   "source": [
    "engaged_with_user_id_train = training_df.select(F.col(\"engaged_with_user_id\").alias(\"user_id\"))\n",
    "engaging_user_id_train = training_df.select(F.col(\"engaging_user_id\").alias(\"user_id\"))\n",
    "engaged_with_user_id_submission = submission_df.select(F.col(\"engaged_with_user_id\").alias(\"user_id\"))\n",
    "engaging_user_id_submission = submission_df.select(F.col(\"engaging_user_id\").alias(\"user_id\"))\n",
    "engaged_with_user_id_test = test_df.select(F.col(\"engaged_with_user_id\").alias(\"user_id\"))\n",
    "engaging_user_id_test = test_df.select(F.col(\"engaging_user_id\").alias(\"user_id\"))"
   ]
  },
  {
   "cell_type": "code",
   "execution_count": 25,
   "metadata": {},
   "outputs": [
    {
     "data": {
      "application/vnd.jupyter.widget-view+json": {
       "model_id": "ad3cffe3c2034c299d87326f737facbc",
       "version_major": 2,
       "version_minor": 0
      },
      "text/plain": [
       "VBox()"
      ]
     },
     "metadata": {},
     "output_type": "display_data"
    },
    {
     "data": {
      "application/vnd.jupyter.widget-view+json": {
       "model_id": "",
       "version_major": 2,
       "version_minor": 0
      },
      "text/plain": [
       "FloatProgress(value=0.0, bar_style='info', description='Progress:', layout=Layout(height='25px', width='50%'),…"
      ]
     },
     "metadata": {},
     "output_type": "display_data"
    }
   ],
   "source": [
    "users_id = engaged_with_user_id_train.union(engaging_user_id_train)\n",
    "users_id = users_id.union(engaged_with_user_id_submission)\n",
    "users_id = users_id.union(engaging_user_id_submission)\n",
    "users_id = users_id.union(engaged_with_user_id_test)\n",
    "users_id = users_id.union(engaging_user_id_test)"
   ]
  },
  {
   "cell_type": "code",
   "execution_count": 26,
   "metadata": {},
   "outputs": [
    {
     "data": {
      "application/vnd.jupyter.widget-view+json": {
       "model_id": "1c89c1e73c8d4c7497ff7f1eb6f66d0f",
       "version_major": 2,
       "version_minor": 0
      },
      "text/plain": [
       "VBox()"
      ]
     },
     "metadata": {},
     "output_type": "display_data"
    },
    {
     "data": {
      "application/vnd.jupyter.widget-view+json": {
       "model_id": "",
       "version_major": 2,
       "version_minor": 0
      },
      "text/plain": [
       "FloatProgress(value=0.0, bar_style='info', description='Progress:', layout=Layout(height='25px', width='50%'),…"
      ]
     },
     "metadata": {},
     "output_type": "display_data"
    }
   ],
   "source": [
    "users_id = users_id.select(\"user_id\").distinct()"
   ]
  },
  {
   "cell_type": "code",
   "execution_count": 27,
   "metadata": {},
   "outputs": [
    {
     "data": {
      "application/vnd.jupyter.widget-view+json": {
       "model_id": "73362e230742401c8cb61895a7cdef91",
       "version_major": 2,
       "version_minor": 0
      },
      "text/plain": [
       "VBox()"
      ]
     },
     "metadata": {},
     "output_type": "display_data"
    },
    {
     "data": {
      "application/vnd.jupyter.widget-view+json": {
       "model_id": "",
       "version_major": 2,
       "version_minor": 0
      },
      "text/plain": [
       "FloatProgress(value=0.0, bar_style='info', description='Progress:', layout=Layout(height='25px', width='50%'),…"
      ]
     },
     "metadata": {},
     "output_type": "display_data"
    }
   ],
   "source": [
    "joined = users_id.join(map_user_bucket, on=\"user_id\", how=\"left\")"
   ]
  },
  {
   "cell_type": "code",
   "execution_count": 28,
   "metadata": {},
   "outputs": [
    {
     "data": {
      "application/vnd.jupyter.widget-view+json": {
       "model_id": "2b8e5cf7955746d6b3a6d80beac95640",
       "version_major": 2,
       "version_minor": 0
      },
      "text/plain": [
       "VBox()"
      ]
     },
     "metadata": {},
     "output_type": "display_data"
    },
    {
     "data": {
      "application/vnd.jupyter.widget-view+json": {
       "model_id": "",
       "version_major": 2,
       "version_minor": 0
      },
      "text/plain": [
       "FloatProgress(value=0.0, bar_style='info', description='Progress:', layout=Layout(height='25px', width='50%'),…"
      ]
     },
     "metadata": {},
     "output_type": "display_data"
    },
    {
     "name": "stdout",
     "output_type": "stream",
     "text": [
      "DataFrame[user_id: string, final_bucket: int]"
     ]
    }
   ],
   "source": [
    "joined"
   ]
  },
  {
   "cell_type": "code",
   "execution_count": 29,
   "metadata": {},
   "outputs": [
    {
     "data": {
      "application/vnd.jupyter.widget-view+json": {
       "model_id": "3eea5590de2b4280b1b7d7893b793c64",
       "version_major": 2,
       "version_minor": 0
      },
      "text/plain": [
       "VBox()"
      ]
     },
     "metadata": {},
     "output_type": "display_data"
    },
    {
     "data": {
      "application/vnd.jupyter.widget-view+json": {
       "model_id": "",
       "version_major": 2,
       "version_minor": 0
      },
      "text/plain": [
       "FloatProgress(value=0.0, bar_style='info', description='Progress:', layout=Layout(height='25px', width='50%'),…"
      ]
     },
     "metadata": {},
     "output_type": "display_data"
    },
    {
     "name": "stdout",
     "output_type": "stream",
     "text": [
      "{}"
     ]
    }
   ],
   "source": [
    "validator(joined)"
   ]
  },
  {
   "cell_type": "code",
   "execution_count": 30,
   "metadata": {},
   "outputs": [
    {
     "data": {
      "application/vnd.jupyter.widget-view+json": {
       "model_id": "30e10ca9d3064ce7aabc2d294d59f334",
       "version_major": 2,
       "version_minor": 0
      },
      "text/plain": [
       "VBox()"
      ]
     },
     "metadata": {},
     "output_type": "display_data"
    },
    {
     "data": {
      "application/vnd.jupyter.widget-view+json": {
       "model_id": "",
       "version_major": 2,
       "version_minor": 0
      },
      "text/plain": [
       "FloatProgress(value=0.0, bar_style='info', description='Progress:', layout=Layout(height='25px', width='50%'),…"
      ]
     },
     "metadata": {},
     "output_type": "display_data"
    },
    {
     "name": "stdout",
     "output_type": "stream",
     "text": [
      "30870475"
     ]
    }
   ],
   "source": [
    "joined.count()"
   ]
  },
  {
   "cell_type": "code",
   "execution_count": 31,
   "metadata": {},
   "outputs": [
    {
     "data": {
      "application/vnd.jupyter.widget-view+json": {
       "model_id": "60479c954d9f48c5a9c558b65c367fc5",
       "version_major": 2,
       "version_minor": 0
      },
      "text/plain": [
       "VBox()"
      ]
     },
     "metadata": {},
     "output_type": "display_data"
    },
    {
     "data": {
      "application/vnd.jupyter.widget-view+json": {
       "model_id": "",
       "version_major": 2,
       "version_minor": 0
      },
      "text/plain": [
       "FloatProgress(value=0.0, bar_style='info', description='Progress:', layout=Layout(height='25px', width='50%'),…"
      ]
     },
     "metadata": {},
     "output_type": "display_data"
    },
    {
     "name": "stdout",
     "output_type": "stream",
     "text": [
      "+--------------------+------------+\n",
      "|             user_id|final_bucket|\n",
      "+--------------------+------------+\n",
      "|0002A3D7A02C1D269...|      215999|\n",
      "|0002A8BD58DEB815B...|      217799|\n",
      "|00071D46D30938BD1...|      215799|\n",
      "|000A333FF60BBD61A...|      216299|\n",
      "|000A3A4690E6A3EBF...|      216199|\n",
      "|000A892FF80CD1BAF...|      215699|\n",
      "|000BBEBC563C6E434...|      215699|\n",
      "|000C9ECFB9640914C...|      217499|\n",
      "|000DB41195B64C63C...|      216199|\n",
      "|000F2939758309C48...|      216399|\n",
      "|001054C6F1A699BF8...|      216399|\n",
      "|00106F46C42A33D0D...|      215699|\n",
      "|0012124D6760147AF...|      216799|\n",
      "|001312C8A19AF88F1...|      216599|\n",
      "|00157F2815522618E...|      216699|\n",
      "|0015E21151245596A...|      216599|\n",
      "|00176A20DB91D102C...|      216999|\n",
      "|001A294FC428289C1...|      216299|\n",
      "|001A64FE89AE8A3A5...|      217299|\n",
      "|001B6F2071C8F7A3D...|      216499|\n",
      "+--------------------+------------+\n",
      "only showing top 20 rows"
     ]
    }
   ],
   "source": [
    "joined.show()"
   ]
  },
  {
   "cell_type": "code",
   "execution_count": 31,
   "metadata": {},
   "outputs": [
    {
     "data": {
      "application/vnd.jupyter.widget-view+json": {
       "model_id": "28a53a7be1e44cc7a29a8a036c2b87ad",
       "version_major": 2,
       "version_minor": 0
      },
      "text/plain": [
       "VBox()"
      ]
     },
     "metadata": {},
     "output_type": "display_data"
    },
    {
     "data": {
      "application/vnd.jupyter.widget-view+json": {
       "model_id": "",
       "version_major": 2,
       "version_minor": 0
      },
      "text/plain": [
       "FloatProgress(value=0.0, bar_style='info', description='Progress:', layout=Layout(height='25px', width='50%'),…"
      ]
     },
     "metadata": {},
     "output_type": "display_data"
    },
    {
     "name": "stdout",
     "output_type": "stream",
     "text": [
      "+-----------------+\n",
      "|max(final_bucket)|\n",
      "+-----------------+\n",
      "|           233198|\n",
      "+-----------------+"
     ]
    }
   ],
   "source": [
    "joined.select(F.max(\"final_bucket\")).show()"
   ]
  },
  {
   "cell_type": "code",
   "execution_count": 32,
   "metadata": {},
   "outputs": [
    {
     "data": {
      "application/vnd.jupyter.widget-view+json": {
       "model_id": "b9dbf9d1883a4e69b4dd0de890ecfca4",
       "version_major": 2,
       "version_minor": 0
      },
      "text/plain": [
       "VBox()"
      ]
     },
     "metadata": {},
     "output_type": "display_data"
    },
    {
     "data": {
      "application/vnd.jupyter.widget-view+json": {
       "model_id": "",
       "version_major": 2,
       "version_minor": 0
      },
      "text/plain": [
       "FloatProgress(value=0.0, bar_style='info', description='Progress:', layout=Layout(height='25px', width='50%'),…"
      ]
     },
     "metadata": {},
     "output_type": "display_data"
    },
    {
     "name": "stdout",
     "output_type": "stream",
     "text": [
      "232861"
     ]
    }
   ],
   "source": [
    "joined.select(\"final_bucket\").distinct().count()"
   ]
  },
  {
   "cell_type": "code",
   "execution_count": 33,
   "metadata": {},
   "outputs": [
    {
     "data": {
      "application/vnd.jupyter.widget-view+json": {
       "model_id": "3a9f83ae67104b1496b02eab90ede258",
       "version_major": 2,
       "version_minor": 0
      },
      "text/plain": [
       "VBox()"
      ]
     },
     "metadata": {},
     "output_type": "display_data"
    },
    {
     "data": {
      "application/vnd.jupyter.widget-view+json": {
       "model_id": "",
       "version_major": 2,
       "version_minor": 0
      },
      "text/plain": [
       "FloatProgress(value=0.0, bar_style='info', description='Progress:', layout=Layout(height='25px', width='50%'),…"
      ]
     },
     "metadata": {},
     "output_type": "display_data"
    },
    {
     "name": "stdout",
     "output_type": "stream",
     "text": [
      "215598"
     ]
    }
   ],
   "source": [
    "main_buckets"
   ]
  },
  {
   "cell_type": "markdown",
   "metadata": {},
   "source": [
    "----"
   ]
  }
 ],
 "metadata": {
  "kernelspec": {
   "display_name": "PySpark",
   "language": "",
   "name": "pysparkkernel"
  },
  "language_info": {
   "codemirror_mode": {
    "name": "python",
    "version": 2
   },
   "mimetype": "text/x-python",
   "name": "pyspark",
   "pygments_lexer": "python2"
  }
 },
 "nbformat": 4,
 "nbformat_minor": 4
}
